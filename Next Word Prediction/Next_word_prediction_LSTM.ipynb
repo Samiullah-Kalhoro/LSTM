{
  "nbformat": 4,
  "nbformat_minor": 0,
  "metadata": {
    "colab": {
      "name": "Next word prediction LSTM.ipynb",
      "provenance": []
    },
    "kernelspec": {
      "name": "python3",
      "display_name": "Python 3"
    },
    "language_info": {
      "name": "python"
    },
    "accelerator": "GPU"
  },
  "cells": [
    {
      "cell_type": "code",
      "execution_count": 1,
      "metadata": {
        "id": "l6zInQdFlkg2"
      },
      "outputs": [],
      "source": [
        "import tensorflow as tf\n",
        "from tensorflow.keras.preprocessing.text import Tokenizer\n",
        "from tensorflow.keras.layers import Embedding, LSTM, Dense\n",
        "from tensorflow.keras.models import Sequential\n",
        "from tensorflow.keras.utils import to_categorical\n",
        "from tensorflow.keras.optimizers import Adam\n",
        "import pickle\n",
        "import numpy as np\n",
        "import os"
      ]
    },
    {
      "cell_type": "code",
      "source": [
        "from google.colab import files\n",
        "uploaded = files.upload()"
      ],
      "metadata": {
        "colab": {
          "resources": {
            "http://localhost:8080/nbextensions/google.colab/files.js": {
              "data": "Ly8gQ29weXJpZ2h0IDIwMTcgR29vZ2xlIExMQwovLwovLyBMaWNlbnNlZCB1bmRlciB0aGUgQXBhY2hlIExpY2Vuc2UsIFZlcnNpb24gMi4wICh0aGUgIkxpY2Vuc2UiKTsKLy8geW91IG1heSBub3QgdXNlIHRoaXMgZmlsZSBleGNlcHQgaW4gY29tcGxpYW5jZSB3aXRoIHRoZSBMaWNlbnNlLgovLyBZb3UgbWF5IG9idGFpbiBhIGNvcHkgb2YgdGhlIExpY2Vuc2UgYXQKLy8KLy8gICAgICBodHRwOi8vd3d3LmFwYWNoZS5vcmcvbGljZW5zZXMvTElDRU5TRS0yLjAKLy8KLy8gVW5sZXNzIHJlcXVpcmVkIGJ5IGFwcGxpY2FibGUgbGF3IG9yIGFncmVlZCB0byBpbiB3cml0aW5nLCBzb2Z0d2FyZQovLyBkaXN0cmlidXRlZCB1bmRlciB0aGUgTGljZW5zZSBpcyBkaXN0cmlidXRlZCBvbiBhbiAiQVMgSVMiIEJBU0lTLAovLyBXSVRIT1VUIFdBUlJBTlRJRVMgT1IgQ09ORElUSU9OUyBPRiBBTlkgS0lORCwgZWl0aGVyIGV4cHJlc3Mgb3IgaW1wbGllZC4KLy8gU2VlIHRoZSBMaWNlbnNlIGZvciB0aGUgc3BlY2lmaWMgbGFuZ3VhZ2UgZ292ZXJuaW5nIHBlcm1pc3Npb25zIGFuZAovLyBsaW1pdGF0aW9ucyB1bmRlciB0aGUgTGljZW5zZS4KCi8qKgogKiBAZmlsZW92ZXJ2aWV3IEhlbHBlcnMgZm9yIGdvb2dsZS5jb2xhYiBQeXRob24gbW9kdWxlLgogKi8KKGZ1bmN0aW9uKHNjb3BlKSB7CmZ1bmN0aW9uIHNwYW4odGV4dCwgc3R5bGVBdHRyaWJ1dGVzID0ge30pIHsKICBjb25zdCBlbGVtZW50ID0gZG9jdW1lbnQuY3JlYXRlRWxlbWVudCgnc3BhbicpOwogIGVsZW1lbnQudGV4dENvbnRlbnQgPSB0ZXh0OwogIGZvciAoY29uc3Qga2V5IG9mIE9iamVjdC5rZXlzKHN0eWxlQXR0cmlidXRlcykpIHsKICAgIGVsZW1lbnQuc3R5bGVba2V5XSA9IHN0eWxlQXR0cmlidXRlc1trZXldOwogIH0KICByZXR1cm4gZWxlbWVudDsKfQoKLy8gTWF4IG51bWJlciBvZiBieXRlcyB3aGljaCB3aWxsIGJlIHVwbG9hZGVkIGF0IGEgdGltZS4KY29uc3QgTUFYX1BBWUxPQURfU0laRSA9IDEwMCAqIDEwMjQ7CgpmdW5jdGlvbiBfdXBsb2FkRmlsZXMoaW5wdXRJZCwgb3V0cHV0SWQpIHsKICBjb25zdCBzdGVwcyA9IHVwbG9hZEZpbGVzU3RlcChpbnB1dElkLCBvdXRwdXRJZCk7CiAgY29uc3Qgb3V0cHV0RWxlbWVudCA9IGRvY3VtZW50LmdldEVsZW1lbnRCeUlkKG91dHB1dElkKTsKICAvLyBDYWNoZSBzdGVwcyBvbiB0aGUgb3V0cHV0RWxlbWVudCB0byBtYWtlIGl0IGF2YWlsYWJsZSBmb3IgdGhlIG5leHQgY2FsbAogIC8vIHRvIHVwbG9hZEZpbGVzQ29udGludWUgZnJvbSBQeXRob24uCiAgb3V0cHV0RWxlbWVudC5zdGVwcyA9IHN0ZXBzOwoKICByZXR1cm4gX3VwbG9hZEZpbGVzQ29udGludWUob3V0cHV0SWQpOwp9CgovLyBUaGlzIGlzIHJvdWdobHkgYW4gYXN5bmMgZ2VuZXJhdG9yIChub3Qgc3VwcG9ydGVkIGluIHRoZSBicm93c2VyIHlldCksCi8vIHdoZXJlIHRoZXJlIGFyZSBtdWx0aXBsZSBhc3luY2hyb25vdXMgc3RlcHMgYW5kIHRoZSBQeXRob24gc2lkZSBpcyBnb2luZwovLyB0byBwb2xsIGZvciBjb21wbGV0aW9uIG9mIGVhY2ggc3RlcC4KLy8gVGhpcyB1c2VzIGEgUHJvbWlzZSB0byBibG9jayB0aGUgcHl0aG9uIHNpZGUgb24gY29tcGxldGlvbiBvZiBlYWNoIHN0ZXAsCi8vIHRoZW4gcGFzc2VzIHRoZSByZXN1bHQgb2YgdGhlIHByZXZpb3VzIHN0ZXAgYXMgdGhlIGlucHV0IHRvIHRoZSBuZXh0IHN0ZXAuCmZ1bmN0aW9uIF91cGxvYWRGaWxlc0NvbnRpbnVlKG91dHB1dElkKSB7CiAgY29uc3Qgb3V0cHV0RWxlbWVudCA9IGRvY3VtZW50LmdldEVsZW1lbnRCeUlkKG91dHB1dElkKTsKICBjb25zdCBzdGVwcyA9IG91dHB1dEVsZW1lbnQuc3RlcHM7CgogIGNvbnN0IG5leHQgPSBzdGVwcy5uZXh0KG91dHB1dEVsZW1lbnQubGFzdFByb21pc2VWYWx1ZSk7CiAgcmV0dXJuIFByb21pc2UucmVzb2x2ZShuZXh0LnZhbHVlLnByb21pc2UpLnRoZW4oKHZhbHVlKSA9PiB7CiAgICAvLyBDYWNoZSB0aGUgbGFzdCBwcm9taXNlIHZhbHVlIHRvIG1ha2UgaXQgYXZhaWxhYmxlIHRvIHRoZSBuZXh0CiAgICAvLyBzdGVwIG9mIHRoZSBnZW5lcmF0b3IuCiAgICBvdXRwdXRFbGVtZW50Lmxhc3RQcm9taXNlVmFsdWUgPSB2YWx1ZTsKICAgIHJldHVybiBuZXh0LnZhbHVlLnJlc3BvbnNlOwogIH0pOwp9CgovKioKICogR2VuZXJhdG9yIGZ1bmN0aW9uIHdoaWNoIGlzIGNhbGxlZCBiZXR3ZWVuIGVhY2ggYXN5bmMgc3RlcCBvZiB0aGUgdXBsb2FkCiAqIHByb2Nlc3MuCiAqIEBwYXJhbSB7c3RyaW5nfSBpbnB1dElkIEVsZW1lbnQgSUQgb2YgdGhlIGlucHV0IGZpbGUgcGlja2VyIGVsZW1lbnQuCiAqIEBwYXJhbSB7c3RyaW5nfSBvdXRwdXRJZCBFbGVtZW50IElEIG9mIHRoZSBvdXRwdXQgZGlzcGxheS4KICogQHJldHVybiB7IUl0ZXJhYmxlPCFPYmplY3Q+fSBJdGVyYWJsZSBvZiBuZXh0IHN0ZXBzLgogKi8KZnVuY3Rpb24qIHVwbG9hZEZpbGVzU3RlcChpbnB1dElkLCBvdXRwdXRJZCkgewogIGNvbnN0IGlucHV0RWxlbWVudCA9IGRvY3VtZW50LmdldEVsZW1lbnRCeUlkKGlucHV0SWQpOwogIGlucHV0RWxlbWVudC5kaXNhYmxlZCA9IGZhbHNlOwoKICBjb25zdCBvdXRwdXRFbGVtZW50ID0gZG9jdW1lbnQuZ2V0RWxlbWVudEJ5SWQob3V0cHV0SWQpOwogIG91dHB1dEVsZW1lbnQuaW5uZXJIVE1MID0gJyc7CgogIGNvbnN0IHBpY2tlZFByb21pc2UgPSBuZXcgUHJvbWlzZSgocmVzb2x2ZSkgPT4gewogICAgaW5wdXRFbGVtZW50LmFkZEV2ZW50TGlzdGVuZXIoJ2NoYW5nZScsIChlKSA9PiB7CiAgICAgIHJlc29sdmUoZS50YXJnZXQuZmlsZXMpOwogICAgfSk7CiAgfSk7CgogIGNvbnN0IGNhbmNlbCA9IGRvY3VtZW50LmNyZWF0ZUVsZW1lbnQoJ2J1dHRvbicpOwogIGlucHV0RWxlbWVudC5wYXJlbnRFbGVtZW50LmFwcGVuZENoaWxkKGNhbmNlbCk7CiAgY2FuY2VsLnRleHRDb250ZW50ID0gJ0NhbmNlbCB1cGxvYWQnOwogIGNvbnN0IGNhbmNlbFByb21pc2UgPSBuZXcgUHJvbWlzZSgocmVzb2x2ZSkgPT4gewogICAgY2FuY2VsLm9uY2xpY2sgPSAoKSA9PiB7CiAgICAgIHJlc29sdmUobnVsbCk7CiAgICB9OwogIH0pOwoKICAvLyBXYWl0IGZvciB0aGUgdXNlciB0byBwaWNrIHRoZSBmaWxlcy4KICBjb25zdCBmaWxlcyA9IHlpZWxkIHsKICAgIHByb21pc2U6IFByb21pc2UucmFjZShbcGlja2VkUHJvbWlzZSwgY2FuY2VsUHJvbWlzZV0pLAogICAgcmVzcG9uc2U6IHsKICAgICAgYWN0aW9uOiAnc3RhcnRpbmcnLAogICAgfQogIH07CgogIGNhbmNlbC5yZW1vdmUoKTsKCiAgLy8gRGlzYWJsZSB0aGUgaW5wdXQgZWxlbWVudCBzaW5jZSBmdXJ0aGVyIHBpY2tzIGFyZSBub3QgYWxsb3dlZC4KICBpbnB1dEVsZW1lbnQuZGlzYWJsZWQgPSB0cnVlOwoKICBpZiAoIWZpbGVzKSB7CiAgICByZXR1cm4gewogICAgICByZXNwb25zZTogewogICAgICAgIGFjdGlvbjogJ2NvbXBsZXRlJywKICAgICAgfQogICAgfTsKICB9CgogIGZvciAoY29uc3QgZmlsZSBvZiBmaWxlcykgewogICAgY29uc3QgbGkgPSBkb2N1bWVudC5jcmVhdGVFbGVtZW50KCdsaScpOwogICAgbGkuYXBwZW5kKHNwYW4oZmlsZS5uYW1lLCB7Zm9udFdlaWdodDogJ2JvbGQnfSkpOwogICAgbGkuYXBwZW5kKHNwYW4oCiAgICAgICAgYCgke2ZpbGUudHlwZSB8fCAnbi9hJ30pIC0gJHtmaWxlLnNpemV9IGJ5dGVzLCBgICsKICAgICAgICBgbGFzdCBtb2RpZmllZDogJHsKICAgICAgICAgICAgZmlsZS5sYXN0TW9kaWZpZWREYXRlID8gZmlsZS5sYXN0TW9kaWZpZWREYXRlLnRvTG9jYWxlRGF0ZVN0cmluZygpIDoKICAgICAgICAgICAgICAgICAgICAgICAgICAgICAgICAgICAgJ24vYSd9IC0gYCkpOwogICAgY29uc3QgcGVyY2VudCA9IHNwYW4oJzAlIGRvbmUnKTsKICAgIGxpLmFwcGVuZENoaWxkKHBlcmNlbnQpOwoKICAgIG91dHB1dEVsZW1lbnQuYXBwZW5kQ2hpbGQobGkpOwoKICAgIGNvbnN0IGZpbGVEYXRhUHJvbWlzZSA9IG5ldyBQcm9taXNlKChyZXNvbHZlKSA9PiB7CiAgICAgIGNvbnN0IHJlYWRlciA9IG5ldyBGaWxlUmVhZGVyKCk7CiAgICAgIHJlYWRlci5vbmxvYWQgPSAoZSkgPT4gewogICAgICAgIHJlc29sdmUoZS50YXJnZXQucmVzdWx0KTsKICAgICAgfTsKICAgICAgcmVhZGVyLnJlYWRBc0FycmF5QnVmZmVyKGZpbGUpOwogICAgfSk7CiAgICAvLyBXYWl0IGZvciB0aGUgZGF0YSB0byBiZSByZWFkeS4KICAgIGxldCBmaWxlRGF0YSA9IHlpZWxkIHsKICAgICAgcHJvbWlzZTogZmlsZURhdGFQcm9taXNlLAogICAgICByZXNwb25zZTogewogICAgICAgIGFjdGlvbjogJ2NvbnRpbnVlJywKICAgICAgfQogICAgfTsKCiAgICAvLyBVc2UgYSBjaHVua2VkIHNlbmRpbmcgdG8gYXZvaWQgbWVzc2FnZSBzaXplIGxpbWl0cy4gU2VlIGIvNjIxMTU2NjAuCiAgICBsZXQgcG9zaXRpb24gPSAwOwogICAgZG8gewogICAgICBjb25zdCBsZW5ndGggPSBNYXRoLm1pbihmaWxlRGF0YS5ieXRlTGVuZ3RoIC0gcG9zaXRpb24sIE1BWF9QQVlMT0FEX1NJWkUpOwogICAgICBjb25zdCBjaHVuayA9IG5ldyBVaW50OEFycmF5KGZpbGVEYXRhLCBwb3NpdGlvbiwgbGVuZ3RoKTsKICAgICAgcG9zaXRpb24gKz0gbGVuZ3RoOwoKICAgICAgY29uc3QgYmFzZTY0ID0gYnRvYShTdHJpbmcuZnJvbUNoYXJDb2RlLmFwcGx5KG51bGwsIGNodW5rKSk7CiAgICAgIHlpZWxkIHsKICAgICAgICByZXNwb25zZTogewogICAgICAgICAgYWN0aW9uOiAnYXBwZW5kJywKICAgICAgICAgIGZpbGU6IGZpbGUubmFtZSwKICAgICAgICAgIGRhdGE6IGJhc2U2NCwKICAgICAgICB9LAogICAgICB9OwoKICAgICAgbGV0IHBlcmNlbnREb25lID0gZmlsZURhdGEuYnl0ZUxlbmd0aCA9PT0gMCA/CiAgICAgICAgICAxMDAgOgogICAgICAgICAgTWF0aC5yb3VuZCgocG9zaXRpb24gLyBmaWxlRGF0YS5ieXRlTGVuZ3RoKSAqIDEwMCk7CiAgICAgIHBlcmNlbnQudGV4dENvbnRlbnQgPSBgJHtwZXJjZW50RG9uZX0lIGRvbmVgOwoKICAgIH0gd2hpbGUgKHBvc2l0aW9uIDwgZmlsZURhdGEuYnl0ZUxlbmd0aCk7CiAgfQoKICAvLyBBbGwgZG9uZS4KICB5aWVsZCB7CiAgICByZXNwb25zZTogewogICAgICBhY3Rpb246ICdjb21wbGV0ZScsCiAgICB9CiAgfTsKfQoKc2NvcGUuZ29vZ2xlID0gc2NvcGUuZ29vZ2xlIHx8IHt9OwpzY29wZS5nb29nbGUuY29sYWIgPSBzY29wZS5nb29nbGUuY29sYWIgfHwge307CnNjb3BlLmdvb2dsZS5jb2xhYi5fZmlsZXMgPSB7CiAgX3VwbG9hZEZpbGVzLAogIF91cGxvYWRGaWxlc0NvbnRpbnVlLAp9Owp9KShzZWxmKTsK",
              "ok": true,
              "headers": [
                [
                  "content-type",
                  "application/javascript"
                ]
              ],
              "status": 200,
              "status_text": ""
            }
          },
          "base_uri": "https://localhost:8080/",
          "height": 70
        },
        "id": "-RXxOQjYmOqp",
        "outputId": "47e4c594-a1c7-4fc6-9de2-75e7a518aeaa"
      },
      "execution_count": 2,
      "outputs": [
        {
          "output_type": "display_data",
          "data": {
            "text/html": [
              "\n",
              "     <input type=\"file\" id=\"files-692e60a9-ebc8-4c12-90a6-0c06c86e5725\" name=\"files[]\" multiple disabled\n",
              "        style=\"border:none\" />\n",
              "     <output id=\"result-692e60a9-ebc8-4c12-90a6-0c06c86e5725\">\n",
              "      Upload widget is only available when the cell has been executed in the\n",
              "      current browser session. Please rerun this cell to enable.\n",
              "      </output>\n",
              "      <script src=\"/nbextensions/google.colab/files.js\"></script> "
            ],
            "text/plain": [
              "<IPython.core.display.HTML object>"
            ]
          },
          "metadata": {}
        },
        {
          "output_type": "stream",
          "name": "stdout",
          "text": [
            "Saving Pride and Prejudice.txt to Pride and Prejudice.txt\n"
          ]
        }
      ]
    },
    {
      "cell_type": "code",
      "source": [
        "file = open(\"Pride and Prejudice.txt\", \"r\", encoding = \"utf8\")\n",
        "\n",
        "# Store file in list\n",
        "lines = []\n",
        "for i in file:\n",
        "  lines.append(i)\n",
        "\n",
        "#converting list to string\n",
        "data = \"\"\n",
        "for i in lines:\n",
        "  data = ''.join(lines)\n",
        "\n",
        "#replace unnecessary stuff with space\n",
        "data = data.replace('\\n', '').replace('\\r', '').replace('\\ufeff', '').replace('“','').replace('”','')\n",
        "\n",
        "#remove unnecessary spaces \n",
        "data = data.split()\n",
        "data = ' '.join(data)\n",
        "data[:500]\n"
      ],
      "metadata": {
        "colab": {
          "base_uri": "https://localhost:8080/",
          "height": 70
        },
        "id": "1NDWpLrzmqCc",
        "outputId": "236987a0-740e-4048-bb46-aeb93ee89bce"
      },
      "execution_count": 3,
      "outputs": [
        {
          "output_type": "execute_result",
          "data": {
            "application/vnd.google.colaboratory.intrinsic+json": {
              "type": "string"
            },
            "text/plain": [
              "'The Project Gutenberg eBook of Pride and Prejudice, by Jane AustenThis eBook is for the use of anyone anywhere in the United States andmost other parts of the world at no cost and with almost no restrictionswhatsoever. You may copy it, give it away or re-use it under the termsof the Project Gutenberg License included with this eBook or online atwww.gutenberg.org. If you are not located in the United States, youwill have to check the laws of the country where you are located beforeusing this eBoo'"
            ]
          },
          "metadata": {},
          "execution_count": 3
        }
      ]
    },
    {
      "cell_type": "code",
      "source": [
        "len(data)"
      ],
      "metadata": {
        "colab": {
          "base_uri": "https://localhost:8080/"
        },
        "id": "8xt3k_NSoXGG",
        "outputId": "e2cbe5f9-5fb7-497d-ebdc-8b0590235f79"
      },
      "execution_count": 4,
      "outputs": [
        {
          "output_type": "execute_result",
          "data": {
            "text/plain": [
              "698067"
            ]
          },
          "metadata": {},
          "execution_count": 4
        }
      ]
    },
    {
      "cell_type": "code",
      "source": [
        "tokenizer = Tokenizer()\n",
        "tokenizer.fit_on_texts([data])\n",
        "\n",
        "# saving the tokenizer for predict function\n",
        "pickle.dump(tokenizer, open('token.pkl', 'wb'))\n",
        "\n",
        "sequence_data = tokenizer.texts_to_sequences([data])[0]\n",
        "sequence_data[:15]"
      ],
      "metadata": {
        "colab": {
          "base_uri": "https://localhost:8080/"
        },
        "id": "glX0sTKUodTp",
        "outputId": "2d428384-2a4a-46bf-faf7-298aa9a50601"
      },
      "execution_count": 5,
      "outputs": [
        {
          "output_type": "execute_result",
          "data": {
            "text/plain": [
              "[1, 223, 186, 912, 3, 328, 4, 1351, 30, 72, 4174, 912, 23, 21, 1]"
            ]
          },
          "metadata": {},
          "execution_count": 5
        }
      ]
    },
    {
      "cell_type": "code",
      "source": [
        "len(sequence_data)"
      ],
      "metadata": {
        "colab": {
          "base_uri": "https://localhost:8080/"
        },
        "id": "s3bOwQXFo-d5",
        "outputId": "7d5f4957-0126-45c5-f10d-a668c1b54936"
      },
      "execution_count": 6,
      "outputs": [
        {
          "output_type": "execute_result",
          "data": {
            "text/plain": [
              "125076"
            ]
          },
          "metadata": {},
          "execution_count": 6
        }
      ]
    },
    {
      "cell_type": "code",
      "source": [
        "vocab_size = len(tokenizer.word_index) + 1\n",
        "print(vocab_size)"
      ],
      "metadata": {
        "colab": {
          "base_uri": "https://localhost:8080/"
        },
        "id": "JLbR8jSupCdl",
        "outputId": "b703010c-be52-4203-f513-db8e4688a1ee"
      },
      "execution_count": 7,
      "outputs": [
        {
          "output_type": "stream",
          "name": "stdout",
          "text": [
            "7200\n"
          ]
        }
      ]
    },
    {
      "cell_type": "code",
      "source": [
        "sequences = []\n",
        "\n",
        "for i in range(3, len(sequence_data)):\n",
        "    words = sequence_data[i-3:i+1]\n",
        "    sequences.append(words)\n",
        "    \n",
        "print(\"The Length of sequences are: \", len(sequences))\n",
        "sequences = np.array(sequences)\n",
        "sequences[:10]"
      ],
      "metadata": {
        "colab": {
          "base_uri": "https://localhost:8080/"
        },
        "id": "tZq3tzTipN3R",
        "outputId": "f9593dd9-3cf8-45ff-d308-144c08c6c706"
      },
      "execution_count": 8,
      "outputs": [
        {
          "output_type": "stream",
          "name": "stdout",
          "text": [
            "The Length of sequences are:  125073\n"
          ]
        },
        {
          "output_type": "execute_result",
          "data": {
            "text/plain": [
              "array([[   1,  223,  186,  912],\n",
              "       [ 223,  186,  912,    3],\n",
              "       [ 186,  912,    3,  328],\n",
              "       [ 912,    3,  328,    4],\n",
              "       [   3,  328,    4, 1351],\n",
              "       [ 328,    4, 1351,   30],\n",
              "       [   4, 1351,   30,   72],\n",
              "       [1351,   30,   72, 4174],\n",
              "       [  30,   72, 4174,  912],\n",
              "       [  72, 4174,  912,   23]])"
            ]
          },
          "metadata": {},
          "execution_count": 8
        }
      ]
    },
    {
      "cell_type": "code",
      "source": [
        "X = []\n",
        "y = []\n",
        "\n",
        "for i in sequences:\n",
        "    X.append(i[0:3])\n",
        "    y.append(i[3])\n",
        "    \n",
        "X = np.array(X)\n",
        "y = np.array(y)"
      ],
      "metadata": {
        "id": "eq7wQyl1piWd"
      },
      "execution_count": 9,
      "outputs": []
    },
    {
      "cell_type": "code",
      "source": [
        "print(\"Data: \", X[:10])\n",
        "print(\"Response: \", y[:10])"
      ],
      "metadata": {
        "colab": {
          "base_uri": "https://localhost:8080/"
        },
        "id": "Wa3tFDgXpuQ5",
        "outputId": "0a518284-5118-4111-ea0f-90443c669133"
      },
      "execution_count": 10,
      "outputs": [
        {
          "output_type": "stream",
          "name": "stdout",
          "text": [
            "Data:  [[   1  223  186]\n",
            " [ 223  186  912]\n",
            " [ 186  912    3]\n",
            " [ 912    3  328]\n",
            " [   3  328    4]\n",
            " [ 328    4 1351]\n",
            " [   4 1351   30]\n",
            " [1351   30   72]\n",
            " [  30   72 4174]\n",
            " [  72 4174  912]]\n",
            "Response:  [ 912    3  328    4 1351   30   72 4174  912   23]\n"
          ]
        }
      ]
    },
    {
      "cell_type": "code",
      "source": [
        "y = to_categorical(y, num_classes=vocab_size)\n",
        "y[:5]"
      ],
      "metadata": {
        "colab": {
          "base_uri": "https://localhost:8080/"
        },
        "id": "7jc8Ldkgpwxi",
        "outputId": "f393c146-8671-4a75-c3f8-6fa71aecf16a"
      },
      "execution_count": 11,
      "outputs": [
        {
          "output_type": "execute_result",
          "data": {
            "text/plain": [
              "array([[0., 0., 0., ..., 0., 0., 0.],\n",
              "       [0., 0., 0., ..., 0., 0., 0.],\n",
              "       [0., 0., 0., ..., 0., 0., 0.],\n",
              "       [0., 0., 0., ..., 0., 0., 0.],\n",
              "       [0., 0., 0., ..., 0., 0., 0.]], dtype=float32)"
            ]
          },
          "metadata": {},
          "execution_count": 11
        }
      ]
    },
    {
      "cell_type": "code",
      "source": [
        "model = Sequential()\n",
        "model.add(Embedding(vocab_size, 10, input_length=3))\n",
        "model.add(LSTM(1000, return_sequences=True))\n",
        "model.add(LSTM(1000))\n",
        "model.add(Dense(1000, activation=\"relu\"))\n",
        "model.add(Dense(vocab_size, activation=\"softmax\"))"
      ],
      "metadata": {
        "id": "WieAMci0p6aa"
      },
      "execution_count": 12,
      "outputs": []
    },
    {
      "cell_type": "code",
      "source": [
        "model.summary()"
      ],
      "metadata": {
        "colab": {
          "base_uri": "https://localhost:8080/"
        },
        "id": "dGKAb4f2qb1C",
        "outputId": "a1e0dfe7-1edb-40b6-f4dc-4d45e7700dbc"
      },
      "execution_count": 13,
      "outputs": [
        {
          "output_type": "stream",
          "name": "stdout",
          "text": [
            "Model: \"sequential\"\n",
            "_________________________________________________________________\n",
            " Layer (type)                Output Shape              Param #   \n",
            "=================================================================\n",
            " embedding (Embedding)       (None, 3, 10)             72000     \n",
            "                                                                 \n",
            " lstm (LSTM)                 (None, 3, 1000)           4044000   \n",
            "                                                                 \n",
            " lstm_1 (LSTM)               (None, 1000)              8004000   \n",
            "                                                                 \n",
            " dense (Dense)               (None, 1000)              1001000   \n",
            "                                                                 \n",
            " dense_1 (Dense)             (None, 7200)              7207200   \n",
            "                                                                 \n",
            "=================================================================\n",
            "Total params: 20,328,200\n",
            "Trainable params: 20,328,200\n",
            "Non-trainable params: 0\n",
            "_________________________________________________________________\n"
          ]
        }
      ]
    },
    {
      "cell_type": "code",
      "source": [
        "from tensorflow import keras\n",
        "from keras.utils.vis_utils import plot_model\n",
        "\n",
        "keras.utils.plot_model(model, to_file='plot.png', show_layer_names=True)"
      ],
      "metadata": {
        "colab": {
          "base_uri": "https://localhost:8080/",
          "height": 564
        },
        "id": "yKYoSOgmqd6X",
        "outputId": "a7a4b6f5-98e4-4f82-a7d9-43099d76be20"
      },
      "execution_count": 14,
      "outputs": [
        {
          "output_type": "execute_result",
          "data": {
            "image/png": "[encoded data removed]",
            "text/plain": [
              "<IPython.core.display.Image object>"
            ]
          },
          "metadata": {},
          "execution_count": 14
        }
      ]
    },
    {
      "cell_type": "code",
      "source": [
        "from tensorflow.keras.callbacks import ModelCheckpoint\n",
        "\n",
        "checkpoint = ModelCheckpoint(\"next_words.h5\", monitor='loss', verbose=1, save_best_only=True)\n",
        "model.compile(loss=\"categorical_crossentropy\", optimizer=Adam(learning_rate=0.001))\n",
        "model.fit(X, y, epochs=70, batch_size=64, callbacks=[checkpoint])"
      ],
      "metadata": {
        "colab": {
          "base_uri": "https://localhost:8080/"
        },
        "id": "j7s1_TzvqhkG",
        "outputId": "3bcc4bc6-912d-46bb-fa94-6d7208ad1114"
      },
      "execution_count": 15,
      "outputs": [
        {
          "output_type": "stream",
          "name": "stdout",
          "text": [
            "Epoch 1/70\n",
            "1955/1955 [==============================] - ETA: 0s - loss: 6.2304\n",
            "Epoch 00001: loss improved from inf to 6.23035, saving model to next_words.h5\n",
            "1955/1955 [==============================] - 72s 32ms/step - loss: 6.2304\n",
            "Epoch 2/70\n",
            "1955/1955 [==============================] - ETA: 0s - loss: 5.6154\n",
            "Epoch 00002: loss improved from 6.23035 to 5.61541, saving model to next_words.h5\n",
            "1955/1955 [==============================] - 64s 32ms/step - loss: 5.6154\n",
            "Epoch 3/70\n",
            "1954/1955 [============================>.] - ETA: 0s - loss: 5.2893\n",
            "Epoch 00003: loss improved from 5.61541 to 5.28957, saving model to next_words.h5\n",
            "1955/1955 [==============================] - 63s 32ms/step - loss: 5.2896\n",
            "Epoch 4/70\n",
            "1955/1955 [==============================] - ETA: 0s - loss: 5.0468\n",
            "Epoch 00004: loss improved from 5.28957 to 5.04682, saving model to next_words.h5\n",
            "1955/1955 [==============================] - 63s 32ms/step - loss: 5.0468\n",
            "Epoch 5/70\n",
            "1955/1955 [==============================] - ETA: 0s - loss: 4.8352\n",
            "Epoch 00005: loss improved from 5.04682 to 4.83525, saving model to next_words.h5\n",
            "1955/1955 [==============================] - 63s 32ms/step - loss: 4.8352\n",
            "Epoch 6/70\n",
            "1955/1955 [==============================] - ETA: 0s - loss: 4.6334\n",
            "Epoch 00006: loss improved from 4.83525 to 4.63343, saving model to next_words.h5\n",
            "1955/1955 [==============================] - 63s 32ms/step - loss: 4.6334\n",
            "Epoch 7/70\n",
            "1955/1955 [==============================] - ETA: 0s - loss: 4.4382\n",
            "Epoch 00007: loss improved from 4.63343 to 4.43820, saving model to next_words.h5\n",
            "1955/1955 [==============================] - 63s 32ms/step - loss: 4.4382\n",
            "Epoch 8/70\n",
            "1955/1955 [==============================] - ETA: 0s - loss: 4.2387\n",
            "Epoch 00008: loss improved from 4.43820 to 4.23868, saving model to next_words.h5\n",
            "1955/1955 [==============================] - 64s 33ms/step - loss: 4.2387\n",
            "Epoch 9/70\n",
            "1955/1955 [==============================] - ETA: 0s - loss: 4.0321\n",
            "Epoch 00009: loss improved from 4.23868 to 4.03213, saving model to next_words.h5\n",
            "1955/1955 [==============================] - 63s 32ms/step - loss: 4.0321\n",
            "Epoch 10/70\n",
            "1954/1955 [============================>.] - ETA: 0s - loss: 3.8151\n",
            "Epoch 00010: loss improved from 4.03213 to 3.81489, saving model to next_words.h5\n",
            "1955/1955 [==============================] - 63s 32ms/step - loss: 3.8149\n",
            "Epoch 11/70\n",
            "1954/1955 [============================>.] - ETA: 0s - loss: 3.5873\n",
            "Epoch 00011: loss improved from 3.81489 to 3.58725, saving model to next_words.h5\n",
            "1955/1955 [==============================] - 65s 33ms/step - loss: 3.5872\n",
            "Epoch 12/70\n",
            "1955/1955 [==============================] - ETA: 0s - loss: 3.3540\n",
            "Epoch 00012: loss improved from 3.58725 to 3.35402, saving model to next_words.h5\n",
            "1955/1955 [==============================] - 63s 32ms/step - loss: 3.3540\n",
            "Epoch 13/70\n",
            "1955/1955 [==============================] - ETA: 0s - loss: 3.1113\n",
            "Epoch 00013: loss improved from 3.35402 to 3.11134, saving model to next_words.h5\n",
            "1955/1955 [==============================] - 63s 32ms/step - loss: 3.1113\n",
            "Epoch 14/70\n",
            "1955/1955 [==============================] - ETA: 0s - loss: 2.8604\n",
            "Epoch 00014: loss improved from 3.11134 to 2.86037, saving model to next_words.h5\n",
            "1955/1955 [==============================] - 63s 32ms/step - loss: 2.8604\n",
            "Epoch 15/70\n",
            "1954/1955 [============================>.] - ETA: 0s - loss: 2.5991\n",
            "Epoch 00015: loss improved from 2.86037 to 2.59912, saving model to next_words.h5\n",
            "1955/1955 [==============================] - 63s 32ms/step - loss: 2.5991\n",
            "Epoch 16/70\n",
            "1954/1955 [============================>.] - ETA: 0s - loss: 2.3451\n",
            "Epoch 00016: loss improved from 2.59912 to 2.34507, saving model to next_words.h5\n",
            "1955/1955 [==============================] - 63s 32ms/step - loss: 2.3451\n",
            "Epoch 17/70\n",
            "1954/1955 [============================>.] - ETA: 0s - loss: 2.0944\n",
            "Epoch 00017: loss improved from 2.34507 to 2.09443, saving model to next_words.h5\n",
            "1955/1955 [==============================] - 63s 32ms/step - loss: 2.0944\n",
            "Epoch 18/70\n",
            "1954/1955 [============================>.] - ETA: 0s - loss: 1.8575\n",
            "Epoch 00018: loss improved from 2.09443 to 1.85757, saving model to next_words.h5\n",
            "1955/1955 [==============================] - 63s 32ms/step - loss: 1.8576\n",
            "Epoch 19/70\n",
            "1955/1955 [==============================] - ETA: 0s - loss: 1.6470\n",
            "Epoch 00019: loss improved from 1.85757 to 1.64695, saving model to next_words.h5\n",
            "1955/1955 [==============================] - 63s 32ms/step - loss: 1.6470\n",
            "Epoch 20/70\n",
            "1955/1955 [==============================] - ETA: 0s - loss: 1.4576\n",
            "Epoch 00020: loss improved from 1.64695 to 1.45758, saving model to next_words.h5\n",
            "1955/1955 [==============================] - 63s 32ms/step - loss: 1.4576\n",
            "Epoch 21/70\n",
            "1955/1955 [==============================] - ETA: 0s - loss: 1.3031\n",
            "Epoch 00021: loss improved from 1.45758 to 1.30314, saving model to next_words.h5\n",
            "1955/1955 [==============================] - 63s 32ms/step - loss: 1.3031\n",
            "Epoch 22/70\n",
            "1955/1955 [==============================] - ETA: 0s - loss: 1.1722\n",
            "Epoch 00022: loss improved from 1.30314 to 1.17224, saving model to next_words.h5\n",
            "1955/1955 [==============================] - 63s 32ms/step - loss: 1.1722\n",
            "Epoch 23/70\n",
            "1955/1955 [==============================] - ETA: 0s - loss: 1.0585\n",
            "Epoch 00023: loss improved from 1.17224 to 1.05851, saving model to next_words.h5\n",
            "1955/1955 [==============================] - 63s 32ms/step - loss: 1.0585\n",
            "Epoch 24/70\n",
            "1955/1955 [==============================] - ETA: 0s - loss: 0.9761\n",
            "Epoch 00024: loss improved from 1.05851 to 0.97613, saving model to next_words.h5\n",
            "1955/1955 [==============================] - 63s 32ms/step - loss: 0.9761\n",
            "Epoch 25/70\n",
            "1955/1955 [==============================] - ETA: 0s - loss: 0.9125\n",
            "Epoch 00025: loss improved from 0.97613 to 0.91252, saving model to next_words.h5\n",
            "1955/1955 [==============================] - 62s 32ms/step - loss: 0.9125\n",
            "Epoch 26/70\n",
            "1955/1955 [==============================] - ETA: 0s - loss: 0.8556\n",
            "Epoch 00026: loss improved from 0.91252 to 0.85561, saving model to next_words.h5\n",
            "1955/1955 [==============================] - 63s 32ms/step - loss: 0.8556\n",
            "Epoch 27/70\n",
            "1955/1955 [==============================] - ETA: 0s - loss: 0.8091\n",
            "Epoch 00027: loss improved from 0.85561 to 0.80911, saving model to next_words.h5\n",
            "1955/1955 [==============================] - 63s 32ms/step - loss: 0.8091\n",
            "Epoch 28/70\n",
            "1955/1955 [==============================] - ETA: 0s - loss: 0.7708\n",
            "Epoch 00028: loss improved from 0.80911 to 0.77076, saving model to next_words.h5\n",
            "1955/1955 [==============================] - 63s 32ms/step - loss: 0.7708\n",
            "Epoch 29/70\n",
            "1955/1955 [==============================] - ETA: 0s - loss: 0.7420\n",
            "Epoch 00029: loss improved from 0.77076 to 0.74200, saving model to next_words.h5\n",
            "1955/1955 [==============================] - 63s 32ms/step - loss: 0.7420\n",
            "Epoch 30/70\n",
            "1955/1955 [==============================] - ETA: 0s - loss: 0.7163\n",
            "Epoch 00030: loss improved from 0.74200 to 0.71633, saving model to next_words.h5\n",
            "1955/1955 [==============================] - 63s 32ms/step - loss: 0.7163\n",
            "Epoch 31/70\n",
            "1955/1955 [==============================] - ETA: 0s - loss: 0.6894\n",
            "Epoch 00031: loss improved from 0.71633 to 0.68941, saving model to next_words.h5\n",
            "1955/1955 [==============================] - 63s 32ms/step - loss: 0.6894\n",
            "Epoch 32/70\n",
            "1954/1955 [============================>.] - ETA: 0s - loss: 0.6699\n",
            "Epoch 00032: loss improved from 0.68941 to 0.66988, saving model to next_words.h5\n",
            "1955/1955 [==============================] - 63s 32ms/step - loss: 0.6699\n",
            "Epoch 33/70\n",
            "1955/1955 [==============================] - ETA: 0s - loss: 0.6517\n",
            "Epoch 00033: loss improved from 0.66988 to 0.65167, saving model to next_words.h5\n",
            "1955/1955 [==============================] - 63s 32ms/step - loss: 0.6517\n",
            "Epoch 34/70\n",
            "1955/1955 [==============================] - ETA: 0s - loss: 0.6390\n",
            "Epoch 00034: loss improved from 0.65167 to 0.63896, saving model to next_words.h5\n",
            "1955/1955 [==============================] - 62s 32ms/step - loss: 0.6390\n",
            "Epoch 35/70\n",
            "1955/1955 [==============================] - ETA: 0s - loss: 0.6212\n",
            "Epoch 00035: loss improved from 0.63896 to 0.62119, saving model to next_words.h5\n",
            "1955/1955 [==============================] - 62s 32ms/step - loss: 0.6212\n",
            "Epoch 36/70\n",
            "1955/1955 [==============================] - ETA: 0s - loss: 0.6140\n",
            "Epoch 00036: loss improved from 0.62119 to 0.61396, saving model to next_words.h5\n",
            "1955/1955 [==============================] - 63s 32ms/step - loss: 0.6140\n",
            "Epoch 37/70\n",
            "1955/1955 [==============================] - ETA: 0s - loss: 0.5972\n",
            "Epoch 00037: loss improved from 0.61396 to 0.59719, saving model to next_words.h5\n",
            "1955/1955 [==============================] - 63s 32ms/step - loss: 0.5972\n",
            "Epoch 38/70\n",
            "1955/1955 [==============================] - ETA: 0s - loss: 0.5869\n",
            "Epoch 00038: loss improved from 0.59719 to 0.58689, saving model to next_words.h5\n",
            "1955/1955 [==============================] - 63s 32ms/step - loss: 0.5869\n",
            "Epoch 39/70\n",
            "1955/1955 [==============================] - ETA: 0s - loss: 0.5774\n",
            "Epoch 00039: loss improved from 0.58689 to 0.57740, saving model to next_words.h5\n",
            "1955/1955 [==============================] - 62s 32ms/step - loss: 0.5774\n",
            "Epoch 40/70\n",
            "1955/1955 [==============================] - ETA: 0s - loss: 0.5661\n",
            "Epoch 00040: loss improved from 0.57740 to 0.56613, saving model to next_words.h5\n",
            "1955/1955 [==============================] - 63s 32ms/step - loss: 0.5661\n",
            "Epoch 41/70\n",
            "1955/1955 [==============================] - ETA: 0s - loss: 0.5610\n",
            "Epoch 00041: loss improved from 0.56613 to 0.56099, saving model to next_words.h5\n",
            "1955/1955 [==============================] - 63s 32ms/step - loss: 0.5610\n",
            "Epoch 42/70\n",
            "1955/1955 [==============================] - ETA: 0s - loss: 0.5485\n",
            "Epoch 00042: loss improved from 0.56099 to 0.54849, saving model to next_words.h5\n",
            "1955/1955 [==============================] - 63s 32ms/step - loss: 0.5485\n",
            "Epoch 43/70\n",
            "1954/1955 [============================>.] - ETA: 0s - loss: 0.5462\n",
            "Epoch 00043: loss improved from 0.54849 to 0.54620, saving model to next_words.h5\n",
            "1955/1955 [==============================] - 63s 32ms/step - loss: 0.5462\n",
            "Epoch 44/70\n",
            "1954/1955 [============================>.] - ETA: 0s - loss: 0.5351\n",
            "Epoch 00044: loss improved from 0.54620 to 0.53517, saving model to next_words.h5\n",
            "1955/1955 [==============================] - 63s 32ms/step - loss: 0.5352\n",
            "Epoch 45/70\n",
            "1955/1955 [==============================] - ETA: 0s - loss: 0.5281\n",
            "Epoch 00045: loss improved from 0.53517 to 0.52805, saving model to next_words.h5\n",
            "1955/1955 [==============================] - 63s 32ms/step - loss: 0.5281\n",
            "Epoch 46/70\n",
            "1954/1955 [============================>.] - ETA: 0s - loss: 0.5229\n",
            "Epoch 00046: loss improved from 0.52805 to 0.52288, saving model to next_words.h5\n",
            "1955/1955 [==============================] - 63s 32ms/step - loss: 0.5229\n",
            "Epoch 47/70\n",
            "1955/1955 [==============================] - ETA: 0s - loss: 0.5172\n",
            "Epoch 00047: loss improved from 0.52288 to 0.51717, saving model to next_words.h5\n",
            "1955/1955 [==============================] - 63s 32ms/step - loss: 0.5172\n",
            "Epoch 48/70\n",
            "1955/1955 [==============================] - ETA: 0s - loss: 0.5124\n",
            "Epoch 00048: loss improved from 0.51717 to 0.51236, saving model to next_words.h5\n",
            "1955/1955 [==============================] - 63s 32ms/step - loss: 0.5124\n",
            "Epoch 49/70\n",
            "1955/1955 [==============================] - ETA: 0s - loss: 0.5051\n",
            "Epoch 00049: loss improved from 0.51236 to 0.50505, saving model to next_words.h5\n",
            "1955/1955 [==============================] - 63s 32ms/step - loss: 0.5051\n",
            "Epoch 50/70\n",
            "1954/1955 [============================>.] - ETA: 0s - loss: 0.4995\n",
            "Epoch 00050: loss improved from 0.50505 to 0.49944, saving model to next_words.h5\n",
            "1955/1955 [==============================] - 63s 32ms/step - loss: 0.4994\n",
            "Epoch 51/70\n",
            "1955/1955 [==============================] - ETA: 0s - loss: 0.4951\n",
            "Epoch 00051: loss improved from 0.49944 to 0.49509, saving model to next_words.h5\n",
            "1955/1955 [==============================] - 64s 33ms/step - loss: 0.4951\n",
            "Epoch 52/70\n",
            "1954/1955 [============================>.] - ETA: 0s - loss: 0.4904\n",
            "Epoch 00052: loss improved from 0.49509 to 0.49039, saving model to next_words.h5\n",
            "1955/1955 [==============================] - 65s 33ms/step - loss: 0.4904\n",
            "Epoch 53/70\n",
            "1954/1955 [============================>.] - ETA: 0s - loss: 0.4856\n",
            "Epoch 00053: loss improved from 0.49039 to 0.48553, saving model to next_words.h5\n",
            "1955/1955 [==============================] - 64s 33ms/step - loss: 0.4855\n",
            "Epoch 54/70\n",
            "1955/1955 [==============================] - ETA: 0s - loss: 0.4803\n",
            "Epoch 00054: loss improved from 0.48553 to 0.48030, saving model to next_words.h5\n",
            "1955/1955 [==============================] - 64s 33ms/step - loss: 0.4803\n",
            "Epoch 55/70\n",
            "1955/1955 [==============================] - ETA: 0s - loss: 0.4778\n",
            "Epoch 00055: loss improved from 0.48030 to 0.47777, saving model to next_words.h5\n",
            "1955/1955 [==============================] - 64s 33ms/step - loss: 0.4778\n",
            "Epoch 56/70\n",
            "1955/1955 [==============================] - ETA: 0s - loss: 0.4738\n",
            "Epoch 00056: loss improved from 0.47777 to 0.47383, saving model to next_words.h5\n",
            "1955/1955 [==============================] - 65s 33ms/step - loss: 0.4738\n",
            "Epoch 57/70\n",
            "1955/1955 [==============================] - ETA: 0s - loss: 0.4684\n",
            "Epoch 00057: loss improved from 0.47383 to 0.46838, saving model to next_words.h5\n",
            "1955/1955 [==============================] - 64s 33ms/step - loss: 0.4684\n",
            "Epoch 58/70\n",
            "1955/1955 [==============================] - ETA: 0s - loss: 0.4686\n",
            "Epoch 00058: loss did not improve from 0.46838\n",
            "1955/1955 [==============================] - 64s 33ms/step - loss: 0.4686\n",
            "Epoch 59/70\n",
            "1955/1955 [==============================] - ETA: 0s - loss: 0.4660\n",
            "Epoch 00059: loss improved from 0.46838 to 0.46598, saving model to next_words.h5\n",
            "1955/1955 [==============================] - 65s 33ms/step - loss: 0.4660\n",
            "Epoch 60/70\n",
            "1955/1955 [==============================] - ETA: 0s - loss: 0.4565\n",
            "Epoch 00060: loss improved from 0.46598 to 0.45645, saving model to next_words.h5\n",
            "1955/1955 [==============================] - 65s 33ms/step - loss: 0.4565\n",
            "Epoch 61/70\n",
            "1955/1955 [==============================] - ETA: 0s - loss: 0.4586\n",
            "Epoch 00061: loss did not improve from 0.45645\n",
            "1955/1955 [==============================] - 64s 33ms/step - loss: 0.4586\n",
            "Epoch 62/70\n",
            "1955/1955 [==============================] - ETA: 0s - loss: 0.4542\n",
            "Epoch 00062: loss improved from 0.45645 to 0.45416, saving model to next_words.h5\n",
            "1955/1955 [==============================] - 65s 33ms/step - loss: 0.4542\n",
            "Epoch 63/70\n",
            "1954/1955 [============================>.] - ETA: 0s - loss: 0.4509\n",
            "Epoch 00063: loss improved from 0.45416 to 0.45090, saving model to next_words.h5\n",
            "1955/1955 [==============================] - 65s 33ms/step - loss: 0.4509\n",
            "Epoch 64/70\n",
            "1955/1955 [==============================] - ETA: 0s - loss: 0.4463\n",
            "Epoch 00064: loss improved from 0.45090 to 0.44633, saving model to next_words.h5\n",
            "1955/1955 [==============================] - 65s 33ms/step - loss: 0.4463\n",
            "Epoch 65/70\n",
            "1954/1955 [============================>.] - ETA: 0s - loss: 0.4447\n",
            "Epoch 00065: loss improved from 0.44633 to 0.44468, saving model to next_words.h5\n",
            "1955/1955 [==============================] - 65s 33ms/step - loss: 0.4447\n",
            "Epoch 66/70\n",
            "1955/1955 [==============================] - ETA: 0s - loss: 0.4411\n",
            "Epoch 00066: loss improved from 0.44468 to 0.44106, saving model to next_words.h5\n",
            "1955/1955 [==============================] - 65s 33ms/step - loss: 0.4411\n",
            "Epoch 67/70\n",
            "1955/1955 [==============================] - ETA: 0s - loss: 0.4441\n",
            "Epoch 00067: loss did not improve from 0.44106\n",
            "1955/1955 [==============================] - 65s 33ms/step - loss: 0.4441\n",
            "Epoch 68/70\n",
            "1955/1955 [==============================] - ETA: 0s - loss: 0.4348\n",
            "Epoch 00068: loss improved from 0.44106 to 0.43477, saving model to next_words.h5\n",
            "1955/1955 [==============================] - 65s 33ms/step - loss: 0.4348\n",
            "Epoch 69/70\n",
            "1955/1955 [==============================] - ETA: 0s - loss: 0.4339\n",
            "Epoch 00069: loss improved from 0.43477 to 0.43388, saving model to next_words.h5\n",
            "1955/1955 [==============================] - 65s 33ms/step - loss: 0.4339\n",
            "Epoch 70/70\n",
            "1955/1955 [==============================] - ETA: 0s - loss: 0.4349\n",
            "Epoch 00070: loss did not improve from 0.43388\n",
            "1955/1955 [==============================] - 64s 33ms/step - loss: 0.4349\n"
          ]
        },
        {
          "output_type": "execute_result",
          "data": {
            "text/plain": [
              "<keras.callbacks.History at 0x7f31e641ff50>"
            ]
          },
          "metadata": {},
          "execution_count": 15
        }
      ]
    },
    {
      "cell_type": "code",
      "source": [
        "from tensorflow.keras.models import load_model\n",
        "import numpy as np\n",
        "import pickle\n",
        "\n",
        "# Load the model and tokenizer\n",
        "model = load_model('next_words.h5')\n",
        "tokenizer = pickle.load(open('token.pkl', 'rb'))\n",
        "\n",
        "def Predict_Next_Words(model, tokenizer, text):\n",
        "\n",
        "  sequence = tokenizer.texts_to_sequences([text])\n",
        "  sequence = np.array(sequence)\n",
        "  preds = np.argmax(model.predict(sequence))\n",
        "  predicted_word = \"\"\n",
        "  \n",
        "  for key, value in tokenizer.word_index.items():\n",
        "      if value == preds:\n",
        "          predicted_word = key\n",
        "          break\n",
        "  \n",
        "  print(predicted_word)\n",
        "  return predicted_word"
      ],
      "metadata": {
        "id": "Nx28joZVrIzk"
      },
      "execution_count": 16,
      "outputs": []
    },
    {
      "cell_type": "code",
      "source": [
        "while(True):\n",
        "  text = input(\"Enter your line: \")\n",
        "  \n",
        "  if text == \"0\":\n",
        "      print(\"Execution completed.....\")\n",
        "      break\n",
        "  \n",
        "  else:\n",
        "      try:\n",
        "          text = text.split(\" \")\n",
        "          text = text[-3:]\n",
        "          print(text)\n",
        "        \n",
        "          Predict_Next_Words(model, tokenizer, text)\n",
        "          \n",
        "      except Exception as e:\n",
        "        print(\"Error occurred: \",e)\n",
        "        continue"
      ],
      "metadata": {
        "colab": {
          "base_uri": "https://localhost:8080/"
        },
        "id": "FZSpaAEdFX_j",
        "outputId": "969026fc-40a3-4a9e-9d98-26530c58583f"
      },
      "execution_count": null,
      "outputs": [
        {
          "output_type": "stream",
          "name": "stdout",
          "text": [
            "Enter your line: hi\n",
            "['hi']\n",
            "Error occurred:  in user code:\n",
            "\n",
            "    File \"/usr/local/lib/python3.7/dist-packages/keras/engine/training.py\", line 1621, in predict_function  *\n",
            "        return step_function(self, iterator)\n",
            "    File \"/usr/local/lib/python3.7/dist-packages/keras/engine/training.py\", line 1611, in step_function  **\n",
            "        outputs = model.distribute_strategy.run(run_step, args=(data,))\n",
            "    File \"/usr/local/lib/python3.7/dist-packages/keras/engine/training.py\", line 1604, in run_step  **\n",
            "        outputs = model.predict_step(data)\n",
            "    File \"/usr/local/lib/python3.7/dist-packages/keras/engine/training.py\", line 1572, in predict_step\n",
            "        return self(x, training=False)\n",
            "    File \"/usr/local/lib/python3.7/dist-packages/keras/utils/traceback_utils.py\", line 67, in error_handler\n",
            "        raise e.with_traceback(filtered_tb) from None\n",
            "    File \"/usr/local/lib/python3.7/dist-packages/keras/engine/input_spec.py\", line 263, in assert_input_compatibility\n",
            "        raise ValueError(f'Input {input_index} of layer \"{layer_name}\" is '\n",
            "\n",
            "    ValueError: Input 0 of layer \"sequential\" is incompatible with the layer: expected shape=(None, 3), found shape=(None, 0)\n",
            "\n",
            "Enter your line: hi hi hi\n",
            "['hi', 'hi', 'hi']\n",
            "Error occurred:  in user code:\n",
            "\n",
            "    File \"/usr/local/lib/python3.7/dist-packages/keras/engine/training.py\", line 1621, in predict_function  *\n",
            "        return step_function(self, iterator)\n",
            "    File \"/usr/local/lib/python3.7/dist-packages/keras/engine/training.py\", line 1611, in step_function  **\n",
            "        outputs = model.distribute_strategy.run(run_step, args=(data,))\n",
            "    File \"/usr/local/lib/python3.7/dist-packages/keras/engine/training.py\", line 1604, in run_step  **\n",
            "        outputs = model.predict_step(data)\n",
            "    File \"/usr/local/lib/python3.7/dist-packages/keras/engine/training.py\", line 1572, in predict_step\n",
            "        return self(x, training=False)\n",
            "    File \"/usr/local/lib/python3.7/dist-packages/keras/utils/traceback_utils.py\", line 67, in error_handler\n",
            "        raise e.with_traceback(filtered_tb) from None\n",
            "    File \"/usr/local/lib/python3.7/dist-packages/keras/engine/input_spec.py\", line 263, in assert_input_compatibility\n",
            "        raise ValueError(f'Input {input_index} of layer \"{layer_name}\" is '\n",
            "\n",
            "    ValueError: Input 0 of layer \"sequential\" is incompatible with the layer: expected shape=(None, 3), found shape=(None, 0)\n",
            "\n",
            "Enter your line: year of the\n",
            "['year', 'of', 'the']\n",
            "lady’s\n",
            "Enter your line: hello x and\n",
            "['hello', 'x', 'and']\n",
            "he\n"
          ]
        }
      ]
    },
    {
      "cell_type": "code",
      "source": [
        ""
      ],
      "metadata": {
        "id": "Xht9Nq_RFmBp"
      },
      "execution_count": null,
      "outputs": []
    }
  ]
}